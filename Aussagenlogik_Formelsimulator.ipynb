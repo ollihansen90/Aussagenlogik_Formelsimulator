{
  "nbformat": 4,
  "nbformat_minor": 0,
  "metadata": {
    "colab": {
      "name": "Aussagenlogik_Formelsimulator.ipynb",
      "provenance": [],
      "collapsed_sections": [],
      "authorship_tag": "ABX9TyO0+y48QWrGw90W3ZN4FUY1",
      "include_colab_link": true
    },
    "kernelspec": {
      "name": "python3",
      "display_name": "Python 3"
    },
    "language_info": {
      "name": "python"
    }
  },
  "cells": [
    {
      "cell_type": "markdown",
      "metadata": {
        "id": "view-in-github",
        "colab_type": "text"
      },
      "source": [
        "<a href=\"https://colab.research.google.com/github/ollihansen90/Aussagenlogik_Formelsimulator/blob/main/Aussagenlogik_Formelsimulator.ipynb\" target=\"_parent\"><img src=\"https://colab.research.google.com/assets/colab-badge.svg\" alt=\"Open In Colab\"/></a>"
      ]
    },
    {
      "cell_type": "code",
      "metadata": {
        "colab": {
          "base_uri": "https://localhost:8080/"
        },
        "id": "ApYJk8gDw8kL",
        "outputId": "4952188a-2a40-4768-a562-ffa371776d65"
      },
      "source": [
        "tupellist = [[a, b, c] for a in range(2) for b in range(2) for c in range(2)]\n",
        "\n",
        "def formel(a, b, c):\n",
        "    # -------------------------------------------------------------------------\n",
        "    # HIER könnt ihr die Formel ändern.\n",
        "    truefalse = (a or b) and (not ((not a) and (a or b)))\n",
        "    # -------------------------------------------------------------------------\n",
        "    return truefalse\n",
        "\n",
        "print(\"a\", \"b\", \"c\", \"g\")\n",
        "for tupel in tupellist:\n",
        "    a, b, c = tupel\n",
        "    if formel(a, b, c):\n",
        "        print(a, b, c, \"1\")\n",
        "    else:\n",
        "        print(a, b, c, \"0\")"
      ],
      "execution_count": 2,
      "outputs": [
        {
          "output_type": "stream",
          "name": "stdout",
          "text": [
            "a b c g\n",
            "0 0 0 0\n",
            "0 0 1 0\n",
            "0 1 0 0\n",
            "0 1 1 0\n",
            "1 0 0 1\n",
            "1 0 1 1\n",
            "1 1 0 1\n",
            "1 1 1 1\n"
          ]
        }
      ]
    },
    {
      "cell_type": "code",
      "metadata": {
        "colab": {
          "base_uri": "https://localhost:8080/"
        },
        "id": "rkXn8JRWze6_",
        "outputId": "2a3d0242-c104-4088-ff48-4ee55d82ccf1"
      },
      "source": [
        "print(int(False))"
      ],
      "execution_count": null,
      "outputs": [
        {
          "output_type": "stream",
          "name": "stdout",
          "text": [
            "0\n"
          ]
        }
      ]
    }
  ]
}