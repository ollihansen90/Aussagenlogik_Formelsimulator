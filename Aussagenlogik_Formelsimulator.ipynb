{
  "nbformat": 4,
  "nbformat_minor": 0,
  "metadata": {
    "colab": {
      "name": "Aussagenlogik_Formelsimulator.ipynb",
      "provenance": [],
      "collapsed_sections": [],
      "authorship_tag": "ABX9TyPCw+z3Lttt+dAQhVrzuFvT",
      "include_colab_link": true
    },
    "kernelspec": {
      "name": "python3",
      "display_name": "Python 3"
    },
    "language_info": {
      "name": "python"
    }
  },
  "cells": [
    {
      "cell_type": "markdown",
      "metadata": {
        "id": "view-in-github",
        "colab_type": "text"
      },
      "source": [
        "<a href=\"https://colab.research.google.com/github/ollihansen90/Aussagenlogik_Formelsimulator/blob/main/Aussagenlogik_Formelsimulator.ipynb\" target=\"_parent\"><img src=\"https://colab.research.google.com/assets/colab-badge.svg\" alt=\"Open In Colab\"/></a>"
      ]
    },
    {
      "cell_type": "code",
      "metadata": {
        "colab": {
          "base_uri": "https://localhost:8080/"
        },
        "id": "rkXn8JRWze6_",
        "outputId": "8c47da66-938c-4dc7-e0ba-f8446ac2d568"
      },
      "source": [
        "# Hier nichts ändern (NUR in Zeile 8)\n",
        "from tabulate import tabulate\n",
        "tupellist = [[a, b, c] for a in range(2) for b in range(2) for c in range(2)]\n",
        "\n",
        "def formel(a, b, c):\n",
        "    # -------------------------------------------------------------------------\n",
        "    # HIER könnt ihr die Formel ändern.\n",
        "    truefalse = (a or b) and (not ((not a) and (a or b))) or not c\n",
        "    # -------------------------------------------------------------------------\n",
        "    return truefalse\n",
        "\n",
        "# Hier müsst ihr nichts ändern (NUR in Zeile 8)\n",
        "table = [[\"a\", \"b\", \"c\", \"Formel\"]]\n",
        "counter = 0\n",
        "for tupel in tupellist:\n",
        "    a, b, c = tupel\n",
        "    if formel(a, b, c):\n",
        "        table.append([int(a), int(b), int(c), 1])\n",
        "        counter += 1\n",
        "    else:\n",
        "        table.append([int(a), int(b), int(c), 0])\n",
        "print(tabulate(table, tablefmt=\"fancy_grid\", headers=\"firstrow\"))\n",
        "\n",
        "if counter==0:\n",
        "    print(\"Kontradiktion\")\n",
        "elif counter==8:\n",
        "    print(\"Tautologie\")\n",
        "else:\n",
        "    print(\"Erfüllbar\")"
      ],
      "execution_count": null,
      "outputs": [
        {
          "output_type": "stream",
          "name": "stdout",
          "text": [
            "╒═════╤═════╤═════╤══════════╕\n",
            "│   a │   b │   c │   Formel │\n",
            "╞═════╪═════╪═════╪══════════╡\n",
            "│   0 │   0 │   0 │        1 │\n",
            "├─────┼─────┼─────┼──────────┤\n",
            "│   0 │   0 │   1 │        0 │\n",
            "├─────┼─────┼─────┼──────────┤\n",
            "│   0 │   1 │   0 │        1 │\n",
            "├─────┼─────┼─────┼──────────┤\n",
            "│   0 │   1 │   1 │        0 │\n",
            "├─────┼─────┼─────┼──────────┤\n",
            "│   1 │   0 │   0 │        1 │\n",
            "├─────┼─────┼─────┼──────────┤\n",
            "│   1 │   0 │   1 │        1 │\n",
            "├─────┼─────┼─────┼──────────┤\n",
            "│   1 │   1 │   0 │        1 │\n",
            "├─────┼─────┼─────┼──────────┤\n",
            "│   1 │   1 │   1 │        1 │\n",
            "╘═════╧═════╧═════╧══════════╛\n",
            "Erfüllbar\n"
          ]
        }
      ]
    }
  ]
}