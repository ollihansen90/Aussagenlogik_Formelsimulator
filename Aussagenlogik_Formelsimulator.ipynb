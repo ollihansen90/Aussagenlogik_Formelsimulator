{
  "nbformat": 4,
  "nbformat_minor": 0,
  "metadata": {
    "colab": {
      "name": "Aussagenlogik_Formelsimulator.ipynb",
      "provenance": [],
      "collapsed_sections": [],
      "authorship_tag": "ABX9TyN8U4LKKprfNVqwt1bgwQCe",
      "include_colab_link": true
    },
    "kernelspec": {
      "name": "python3",
      "display_name": "Python 3"
    },
    "language_info": {
      "name": "python"
    }
  },
  "cells": [
    {
      "cell_type": "markdown",
      "metadata": {
        "id": "view-in-github",
        "colab_type": "text"
      },
      "source": [
        "<a href=\"https://colab.research.google.com/github/ollihansen90/Aussagenlogik_Formelsimulator/blob/main/Aussagenlogik_Formelsimulator.ipynb\" target=\"_parent\"><img src=\"https://colab.research.google.com/assets/colab-badge.svg\" alt=\"Open In Colab\"/></a>"
      ]
    },
    {
      "cell_type": "code",
      "metadata": {
        "id": "Sk9cr8joMW-K"
      },
      "source": [
        "from tabulate import tabulate"
      ],
      "execution_count": 8,
      "outputs": []
    },
    {
      "cell_type": "code",
      "metadata": {
        "colab": {
          "base_uri": "https://localhost:8080/"
        },
        "id": "ApYJk8gDw8kL",
        "outputId": "a8061109-7394-43cc-fff9-51661abd7882"
      },
      "source": [
        "tupellist = [[a, b, c] for a in range(2) for b in range(2) for c in range(2)]\n",
        "\n",
        "def formel(a, b, c):\n",
        "    # -------------------------------------------------------------------------\n",
        "    # HIER könnt ihr die Formel ändern.\n",
        "    truefalse = (a or b) and (not ((not a) and (a or b))) or not c\n",
        "    # -------------------------------------------------------------------------\n",
        "    return truefalse\n",
        "\n",
        "print(\"a\", \"|\", \"b\", \"|\", \"c\", \"|\", \"g\")\n",
        "print(13*\"-\")\n",
        "for tupel in tupellist:\n",
        "    a, b, c = tupel\n",
        "    if formel(a, b, c):\n",
        "        print(a, \"|\", b, \"|\", c, \"| 1\")\n",
        "    else:\n",
        "        print(a, \"|\", b, \"|\", c, \"| 0\")"
      ],
      "execution_count": 7,
      "outputs": [
        {
          "output_type": "stream",
          "name": "stdout",
          "text": [
            "a | b | c | g\n",
            "-------------\n",
            "0 | 0 | 0 | 1\n",
            "0 | 0 | 1 | 0\n",
            "0 | 1 | 0 | 1\n",
            "0 | 1 | 1 | 0\n",
            "1 | 0 | 0 | 1\n",
            "1 | 0 | 1 | 1\n",
            "1 | 1 | 0 | 1\n",
            "1 | 1 | 1 | 1\n"
          ]
        }
      ]
    },
    {
      "cell_type": "code",
      "metadata": {
        "colab": {
          "base_uri": "https://localhost:8080/"
        },
        "id": "rkXn8JRWze6_",
        "outputId": "36830297-49f3-456c-d4ac-fd0af1621c2a"
      },
      "source": [
        "tupellist = [[a, b, c] for a in range(2) for b in range(2) for c in range(2)]\n",
        "\n",
        "def formel(a, b, c):\n",
        "    # -------------------------------------------------------------------------\n",
        "    # HIER könnt ihr die Formel ändern.\n",
        "    truefalse = (a or b) and (not ((not a) and (a or b))) or not c\n",
        "    # -------------------------------------------------------------------------\n",
        "    return truefalse\n",
        "\n",
        "table = [[\"a\", \"b\", \"c\", \"Formel\"]]\n",
        "for tupel in tupellist:\n",
        "    a, b, c = tupel\n",
        "    if formel(a, b, c):\n",
        "        table.append([int(a), int(b), int(c), 1])\n",
        "    else:\n",
        "        table.append([int(a), int(b), int(c), 0])\n",
        "print(tabulate(table, tablefmt=\"fancy_grid\", headers=\"firstrow\"))"
      ],
      "execution_count": 15,
      "outputs": [
        {
          "output_type": "stream",
          "name": "stdout",
          "text": [
            "╒═════╤═════╤═════╤══════════╕\n",
            "│   a │   b │   c │   Formel │\n",
            "╞═════╪═════╪═════╪══════════╡\n",
            "│   0 │   0 │   0 │        1 │\n",
            "├─────┼─────┼─────┼──────────┤\n",
            "│   0 │   0 │   1 │        0 │\n",
            "├─────┼─────┼─────┼──────────┤\n",
            "│   0 │   1 │   0 │        1 │\n",
            "├─────┼─────┼─────┼──────────┤\n",
            "│   0 │   1 │   1 │        0 │\n",
            "├─────┼─────┼─────┼──────────┤\n",
            "│   1 │   0 │   0 │        1 │\n",
            "├─────┼─────┼─────┼──────────┤\n",
            "│   1 │   0 │   1 │        1 │\n",
            "├─────┼─────┼─────┼──────────┤\n",
            "│   1 │   1 │   0 │        1 │\n",
            "├─────┼─────┼─────┼──────────┤\n",
            "│   1 │   1 │   1 │        1 │\n",
            "╘═════╧═════╧═════╧══════════╛\n"
          ]
        }
      ]
    }
  ]
}