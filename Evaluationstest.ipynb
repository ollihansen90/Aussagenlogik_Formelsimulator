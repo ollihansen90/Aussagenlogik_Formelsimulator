{
  "nbformat": 4,
  "nbformat_minor": 0,
  "metadata": {
    "colab": {
      "name": "Evaluationstest.ipynb",
      "provenance": [],
      "collapsed_sections": [],
      "include_colab_link": true
    },
    "kernelspec": {
      "name": "python3",
      "display_name": "Python 3"
    },
    "language_info": {
      "name": "python"
    }
  },
  "cells": [
    {
      "cell_type": "markdown",
      "metadata": {
        "id": "view-in-github",
        "colab_type": "text"
      },
      "source": [
        "<a href=\"https://colab.research.google.com/github/ollihansen90/Aussagenlogik_Formelsimulator/blob/main/Evaluationstest.ipynb\" target=\"_parent\"><img src=\"https://colab.research.google.com/assets/colab-badge.svg\" alt=\"Open In Colab\"/></a>"
      ]
    },
    {
      "cell_type": "markdown",
      "metadata": {
        "id": "oqwmCwxtuOgk"
      },
      "source": [
        "# Evaluationstest\n",
        "\n",
        "Dies ist ein Evaluationstest für alle Schüler*innen, welche bereits Erfahrung mit Python haben. Nehmt euch 60 Minuten Zeit, um so viele Aufgaben wie möglich zu lösen. Ihr müsst nicht alle Aufgaben schaffen, konzentriert euch auf die Aufgaben, die ihr könnt. Wir erwarten nicht, dass ihr in der Zeit vollkommen fertig werdet.\n",
        "\n",
        "Schickt eure Ergebnisse bis zum 24.10.2021, 20 Uhr bitte an folgende E-Mailadresse: h.hansen@uni-luebeck.de\n",
        "\n",
        "Ihr könnt eure Ergebnisse entweder oben rechts über Teilen direkt verschicken oder über Datei -> Herunterladen herunterladen und dann per Mail versenden (ob ihr \".ipynb\" oder \".py\" nehmt, ist egal)."
      ]
    },
    {
      "cell_type": "markdown",
      "metadata": {
        "id": "sQ8ba1bgsda5"
      },
      "source": [
        "## Aufgabe 0 - Namen\n",
        "\n",
        "Gebt einmal euren vollen Namen aus. "
      ]
    },
    {
      "cell_type": "code",
      "metadata": {
        "id": "jQrdV7pAuMkX"
      },
      "source": [
        ""
      ],
      "execution_count": null,
      "outputs": []
    },
    {
      "cell_type": "markdown",
      "metadata": {
        "id": "R2E3WBg4sGzv"
      },
      "source": [
        "## Aufgabe 1 - Hello\n",
        "\n",
        "Definiert eine Funktion ```hello```, welche ```Hallo, Welt!``` ausgibt, sobald sie aufgerufen wird. \n",
        "\n",
        "Ruft diese danach einmal auf."
      ]
    },
    {
      "cell_type": "code",
      "metadata": {
        "id": "mYSPnlThschk"
      },
      "source": [
        ""
      ],
      "execution_count": null,
      "outputs": []
    },
    {
      "cell_type": "markdown",
      "metadata": {
        "id": "xXctEzGmqd1k"
      },
      "source": [
        "## Aufgabe 2 - Pythagoras\n",
        "\n",
        "Definiert eine Funktion ```pythagoras```, welche für die Eingabeparameter ```a``` und ```b``` den Wert von ```c``` zurückgibt. Dafür gilt der bekannte Zusammenhang: $a^2 + b^2 = c^2$\n",
        "\n",
        "Anstelle von der Wurzelfunktion könnt ihr auch $\\frac{1}{2}$ in den Exponenten setzen. Es gilt also: $\\sqrt{x} = x^{\\frac{1}{2}}$\n",
        "\n",
        "Testet eure Funktion einmal für $a = 3$ und $b = 4$."
      ]
    },
    {
      "cell_type": "code",
      "metadata": {
        "id": "m7dpmi6Wr3h2"
      },
      "source": [
        ""
      ],
      "execution_count": null,
      "outputs": []
    },
    {
      "cell_type": "markdown",
      "metadata": {
        "id": "nIMzbOIOs5cj"
      },
      "source": [
        "## Aufgabe 3 - Summe\n",
        "\n",
        "Findet möglichst schnell die Summe von 1 bis 250.\n"
      ]
    },
    {
      "cell_type": "code",
      "metadata": {
        "id": "dKKgUvmGtFKk"
      },
      "source": [
        ""
      ],
      "execution_count": null,
      "outputs": []
    },
    {
      "cell_type": "markdown",
      "metadata": {
        "id": "PMOjQSzVtPu6"
      },
      "source": [
        "## Aufgabe 4 - Fibonacci\n",
        "\n",
        "Definiert eine Funktion ```fibonacci```, welche für eine Eingabe ```n``` die ersten n Fibonacci-Zahlen als Liste ausgibt. \n",
        "Dabei gilt:\n",
        "- ```fibonacci(0)``` = 0\n",
        "- ```fibonacci(1)``` = 1\n",
        "- ```fibonacci(n)``` = ```fibonacci(n-1)``` + ```fibonacci(n-2)```\n",
        "\n",
        "Das Ergebnis für die Eingabe n = 10 wäre: [0, 1, 1, 2, 3, 5, 8, 13, 21, 34, 55]\n",
        "\n",
        "Testet dies einmal selbst."
      ]
    },
    {
      "cell_type": "code",
      "metadata": {
        "id": "bPXJFeWetZt-"
      },
      "source": [
        ""
      ],
      "execution_count": null,
      "outputs": []
    },
    {
      "cell_type": "markdown",
      "metadata": {
        "id": "ZhvSbrJ93P0N"
      },
      "source": [
        "## Aufgabe 4.1 - Fibonacci unter 10.000\n",
        "\n",
        "Findet die Anzahl an Fibonacci-Zahlen, die kleiner als 10.000 sind. Nutzt hierfür ```while```."
      ]
    },
    {
      "cell_type": "code",
      "metadata": {
        "id": "oLktc7a6GryU"
      },
      "source": [
        ""
      ],
      "execution_count": null,
      "outputs": []
    },
    {
      "cell_type": "markdown",
      "metadata": {
        "id": "3d5e4W_7x8HN"
      },
      "source": [
        "## Aufgabe 5 - Fakultät (rekursiv)\n",
        "\n",
        "Definiert eine rekursive Funktion ```fakultaet```, welche die Fakultät von n berechnet. Dabei wir die Fakultät von n auch als $n!$ geschrieben. Es gilt: $n! = n \\cdot (n-1) \\cdot (n-2) \\cdot \\ldots \\cdot 3 \\cdot 2 \\cdot 1$.\n",
        "\n",
        "$5!$ ist beispielsweise $5!=5\\cdot4\\cdot3\\cdot2\\cdot1=120$."
      ]
    },
    {
      "cell_type": "code",
      "metadata": {
        "id": "HKxy4jAkx7JC"
      },
      "source": [
        ""
      ],
      "execution_count": null,
      "outputs": []
    },
    {
      "cell_type": "markdown",
      "metadata": {
        "id": "kfpAo493taF2"
      },
      "source": [
        "## Aufgabe 6 - Monat\n",
        "\n",
        "Definiert eine Funktion ```monat```, welche für eine Eingabe zwischen 1 und 12 den Namen des zugehörigen Monats ausgibt.\n",
        "\n",
        "Bonus: Was könnt ihr für Eingaben tun, die nicht zwischen 1 und 12 liegen?"
      ]
    },
    {
      "cell_type": "code",
      "metadata": {
        "id": "OytNoxhgu4mU"
      },
      "source": [
        ""
      ],
      "execution_count": null,
      "outputs": []
    },
    {
      "cell_type": "markdown",
      "metadata": {
        "id": "UG6txLVcu42p"
      },
      "source": [
        "## Aufgabe 6.1 - Erweiterung Monat\n",
        "\n",
        "Ruft eure Funktion ```monat``` so auf, dass die Ausgabe circa wie folgt aussieht: ```[(1, 'Januar'), (2, 'Februar'),.....]```. Das bedeutet, euer Ergebnis soll eine Liste von Tupeln sein."
      ]
    },
    {
      "cell_type": "code",
      "metadata": {
        "id": "93Ubfc3cvtZv"
      },
      "source": [
        ""
      ],
      "execution_count": null,
      "outputs": []
    },
    {
      "cell_type": "markdown",
      "metadata": {
        "id": "xPXTnZSyv1My"
      },
      "source": [
        "## Aufgabe 7 - Liste\n",
        "\n",
        "Erstellt eine Liste mit allen geraden Zahlen von 1 bis 100.\n",
        "- Gebt die ersten zehn Elemente der Liste aus.\n",
        "- Gebt die letzten zehn Elemente der Liste aus.\n",
        "- Gebt nur die Elemente der Liste aus, die durch 3 teilbar sind."
      ]
    },
    {
      "cell_type": "code",
      "metadata": {
        "id": "b3sMYEBhv4fn"
      },
      "source": [
        ""
      ],
      "execution_count": null,
      "outputs": []
    },
    {
      "cell_type": "markdown",
      "metadata": {
        "id": "khBNlLxFv5iW"
      },
      "source": [
        "## Aufgabe 8 - Klassen \n",
        "\n",
        "Schreibt eine Klasse ```Katze``` mit folgenden Attributen: \n",
        "- ```alter```\n",
        "- ```farbe```\n",
        "- ```name```\n",
        "- ```hatHunger```\n",
        "\n",
        "Es gibt folgende Methoden:\n",
        "- Initialisierung: standardmäßig sollen Katzen hierbei Hunger haben\n",
        "- ```streicheln```: schnurr ausgeben\n",
        "- ```fuettern```: soll nicht essen, wenn HatHunger ```False```, soll essen, wenn HatHunger ```True``` und setzt ```HatHunger``` dann auf ```False```\n",
        "- ```vorstellen```: hat eine Ausgabe der Form \"Bob ist 10 Jahre alt und hat die Farbe Gelb.\"\n",
        "- ```geburtstag```: erhöht Alter um 1\n",
        "\n",
        "Aufgaben:\n",
        "- Erstelle eine Katze, die Maru heißt, 4 Jahre alt und rotbraun ist.\n",
        "- Füttere und streichel Maru."
      ]
    },
    {
      "cell_type": "code",
      "metadata": {
        "id": "HhrUISvW2x3I"
      },
      "source": [
        ""
      ],
      "execution_count": null,
      "outputs": []
    }
  ]
}