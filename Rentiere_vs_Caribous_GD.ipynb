{
  "nbformat": 4,
  "nbformat_minor": 0,
  "metadata": {
    "colab": {
      "provenance": [],
      "authorship_tag": "ABX9TyPtN9RwyiDN+CXfim6Yvm6I",
      "include_colab_link": true
    },
    "kernelspec": {
      "name": "python3",
      "display_name": "Python 3"
    },
    "language_info": {
      "name": "python"
    }
  },
  "cells": [
    {
      "cell_type": "markdown",
      "metadata": {
        "id": "view-in-github",
        "colab_type": "text"
      },
      "source": [
        "<a href=\"https://colab.research.google.com/github/ollihansen90/Aussagenlogik_Formelsimulator/blob/main/Rentiere_vs_Caribous_GD.ipynb\" target=\"_parent\"><img src=\"https://colab.research.google.com/assets/colab-badge.svg\" alt=\"Open In Colab\"/></a>"
      ]
    },
    {
      "cell_type": "markdown",
      "source": [
        "# ⛄ Mathe^SH 🍪 Projekt Deep-Learning 🥳 Weihnachtsaufgabe ⛄\n",
        "\n",
        "## Rentier vs. Caribou\n",
        "<img src=\"https://github.com/ollihansen90/Mathe-SH-ML/blob/main/rentiervscaribou.png?raw=true\" width=\"100%\"/>\n",
        "\n",
        "Dem Weihnachtsmann sind seine neun Rentiere entlaufen! Nach dem Füttern hat er vergessen, den Stall wieder abzuschließen, sodass Dasher, Dancer, Prancer, Vixen, Comet, Cupid, Donner, Blitzen und Rudolph rausgehen konnten, um im Schnee zu spielen. Leider haben sie nicht rechtzeitig zurückgefunden und mussten die Nacht draußen im Wald verbringen.\n",
        "\n",
        "Glücklicherweise wurden sie von einer Herde Caribous aufgenommen, sodass sie die kalte Nacht gut überstehen konnten. Caribous gehören wie Rentiere ebenfalls zur Familie der Hirsche und sind deswegen vom Weihnachtsmann schwer auseinanderzuhalten.\n",
        "\n",
        "Der Weihnachtsmann bittet sofort seine Elfen, die magische Vermessungsmaschine anzuwerfen, um sämtliche Tiere der großen Herde von vorne bis hinten auszumessen. Die magische Vermessungsmaschine kann die Schulterhöhe (in m), Länge (in m), das Gewicht (in kg), Hufbreite (in cm), Fellfarbe (in RGB, also Rot-, Grün- und Blau-Kanal, Werte zwischen 0 (Schwarz) und 1 (Weiß) pro Kanal), Alter (in Jahren) und Felldichte (in Haare/cm^2) aufnehmen.\n",
        "\n",
        "Schaffen wir es, einen linearen Klassifizierer zu trainieren, der aus der Liste der 100 Tiere die 9 Rentiere des Weihnachtsmannes findet?\n",
        "\n",
        "### Gegebene Daten:\n",
        "Geladen wird ein Numpy-Array `data_train`, in dem zeilenweise 10.000 Tierdaten mit 9 Variablen stehen. Es handelt sich also um eine $10.000\\times9$-Matrix. Die Hälfte der Tiere sind Rentiere und die andere Hälfte sind Caribous, die der Weihnachtsmann aus anderen Herden (mit Labeln) generieren konnte.\n",
        "\n",
        "Das Numpy-Array `data_test` enthält die Testdaten, in dem 100 Tiere stehen, von denen nur 9 Rentiere sind. Auch hier sind Label gegeben, allerdings sollten die auf keinen Fall zum Training benutzt werden.\n",
        "\n",
        "Die Label bestehen aus `1` für \"Rentier\" und `0` für \"Caribou\"."
      ],
      "metadata": {
        "id": "3fHjYuEvTRLG"
      }
    },
    {
      "cell_type": "code",
      "execution_count": null,
      "metadata": {
        "id": "vEhh1958S2pe"
      },
      "outputs": [],
      "source": [
        "import sys, os\n",
        "if 'google.colab' in sys.modules:\n",
        "    if os.getcwd() == '/content':\n",
        "        !git clone 'https://github.com/ollihansen90/Mathe-SH_RvC_Weihnachten.git'\n",
        "        os.chdir(\"Mathe-SH_RvC_Weihnachten\")\n",
        "\n",
        "import numpy as np\n",
        "from utils import steckbrief\n",
        "\n",
        "data_train = np.load(\"data_train.npy\")\n",
        "print(data_train.shape)\n",
        "data_test = np.load(\"data_test.npy\")\n",
        "print(data_test.shape)\n",
        "label_train = np.load(\"label_train.npy\")\n",
        "print(label_train.shape)\n",
        "label_test = np.load(\"label_test.npy\")\n",
        "print(label_test.shape)\n",
        "\n",
        "steckbrief(data_train[0], label_train[0])\n",
        "steckbrief(data_train[-2], label_train[-2])"
      ]
    },
    {
      "cell_type": "code",
      "source": [],
      "metadata": {
        "id": "WZCwtX36W8rn"
      },
      "execution_count": null,
      "outputs": []
    }
  ]
}